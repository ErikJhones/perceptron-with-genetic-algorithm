{
 "cells": [
  {
   "cell_type": "markdown",
   "id": "potential-sterling",
   "metadata": {},
   "source": [
    "# IMPLEMENTAÇÃO"
   ]
  },
  {
   "cell_type": "code",
   "execution_count": 9,
   "id": "academic-keeping",
   "metadata": {},
   "outputs": [],
   "source": [
    "import numpy as np\n",
    "import math as m \n",
    "import matplotlib.pyplot as plt\n",
    "import random\n",
    "from numpy.random import default_rng"
   ]
  },
  {
   "cell_type": "code",
   "execution_count": 13,
   "id": "centered-voluntary",
   "metadata": {},
   "outputs": [],
   "source": [
    "rng = default_rng()\n",
    "distancias = rng.choice(range(1, 100), size=(7, 7), replace=False)\n",
    "a = 1 - np.eye(7)\n",
    "distancias = distancias*a"
   ]
  },
  {
   "cell_type": "code",
   "execution_count": 15,
   "id": "sunset-heather",
   "metadata": {},
   "outputs": [],
   "source": [
    "distancias = [[ 0., 98., 73., 24., 53., 59., 14.],\n",
    "               [98.,  0., 25., 84., 21., 23., 38.],\n",
    "               [73., 25.,  0., 50., 30., 83., 11.],\n",
    "               [24., 84., 50.,  0., 18., 45.,  4.],\n",
    "               [53., 21., 30., 18.,  0., 10., 87.],\n",
    "               [59., 23.,  83., 45.,  10.,  0., 93.],\n",
    "               [14., 38., 11.,  4., 87., 93.,  0.]]"
   ]
  },
  {
   "cell_type": "code",
   "execution_count": 16,
   "id": "cellular-occasions",
   "metadata": {},
   "outputs": [],
   "source": [
    "#coordenadas dos locais em que o veículo deverá passar\n",
    "x = [8,0,3,2,1,9,7,4,10,2,5,4,8,8,2,5,5,7,8,8]\n",
    "y = [1,7,7,2,3,5,10,4,6,8,8,3,6,7,9,10,6,2,2,3]\n",
    "n = len(x) #numero de pontos em que o veículo deverá passar"
   ]
  },
  {
   "cell_type": "code",
   "execution_count": 18,
   "id": "liberal-broadcasting",
   "metadata": {},
   "outputs": [],
   "source": [
    "CHANCE_MUT = .20     # Chance de mutação de um peso qualquer\n",
    "CHANCE_CO = .25      # Chance de crossing over de um peso qualquer\n",
    "NUM_INDIVIDUOS = 50  # Tamanho da população\n",
    "NUM_MELHORES = 3     # Número de indivíduos que são mantidos de uma geração para a próxima"
   ]
  },
  {
   "cell_type": "code",
   "execution_count": 19,
   "id": "graphic-company",
   "metadata": {},
   "outputs": [],
   "source": [
    "def populacao_aleatoria(n):\n",
    "\n",
    "    populacao = []\n",
    "    \n",
    "    for i in range(n):\n",
    "        valores = np.arange(0, 7)\n",
    "        random.shuffle(valores)\n",
    "        populacao.append(valores)\n",
    "        \n",
    "    return populacao"
   ]
  },
  {
   "cell_type": "code",
   "execution_count": 20,
   "id": "standing-minister",
   "metadata": {},
   "outputs": [],
   "source": [
    "def mutacao(individuo):\n",
    "\n",
    "    for j in range(len(individuo)):\n",
    "        if np.random.uniform(0, 1) < CHANCE_MUT:\n",
    "            b1 = random.randint(0,6)\n",
    "            b2 = random.randint(0,6)\n",
    "            [individuo[b1], individuo[b2]] = [individuo[b2], individuo[b1]] #pode mudar para valores entre 10 e -10"
   ]
  },
  {
   "cell_type": "code",
   "execution_count": 37,
   "id": "expensive-alignment",
   "metadata": {},
   "outputs": [],
   "source": [
    "def crossover(individuo1, individuo2, tamanho):\n",
    "    filho = individuo1.copy()\n",
    "    #for i in range(1):\n",
    "    for j in range(tamanho):\n",
    "        if np.random.uniform(0, 1) < CHANCE_CO:\n",
    "            if filho[j] != individuo2[j]:\n",
    "                \n",
    "                c = np.where(filho == individuo2[j])\n",
    "                filho[c] = filho[j]\n",
    "                filho[j] = individuo2[j]\n",
    "    return filho"
   ]
  },
  {
   "cell_type": "code",
   "execution_count": 56,
   "id": "adolescent-overhead",
   "metadata": {},
   "outputs": [],
   "source": [
    "def proxima_geracao(populacao, fitness):\n",
    "    # Adicionar os melhores indivíduos da geração atual na próxima geração\n",
    "    ordenados = ordenar_lista(populacao, fitness)\n",
    "    proxima_ger = ordenados[:NUM_MELHORES]\n",
    "\n",
    "    while len(proxima_ger) < NUM_INDIVIDUOS:\n",
    "        # Você pode usar a função random.choices(populacao, weights=None, k=2) para selecionar `k`\n",
    "        # elementos aleatórios da população.\n",
    "        #\n",
    "        # Se vc passar o argumento `weights`, os indivíduos serão escolhidos com base nos pesos\n",
    "        # especificados (elementos com pesos maiores são escolhidos mais frequentemente).\n",
    "        # Uma ideia seria usar o fitness como peso.\n",
    "        ind1, ind2 = random.choices(populacao, k=2)\n",
    "        filho = crossover(ind1, ind2, len(populacao[0]))\n",
    "        mutacao(filho)\n",
    "        proxima_ger.append(filho)\n",
    "\n",
    "    return proxima_ger"
   ]
  },
  {
   "cell_type": "code",
   "execution_count": 57,
   "id": "thirty-sally",
   "metadata": {},
   "outputs": [],
   "source": [
    "def ordenar_lista(lista, ordenacao, decrescente=False):\n",
    "    return [x for _, x in sorted(zip(ordenacao, lista), key=lambda p: p[0], reverse=decrescente)]"
   ]
  },
  {
   "cell_type": "code",
   "execution_count": 74,
   "id": "static-content",
   "metadata": {},
   "outputs": [],
   "source": [
    "def funcao_aptidao(individuos):\n",
    "\n",
    "    dist_total = []\n",
    "    x=0\n",
    "    \n",
    "    for i in individuos:\n",
    "        soma = 0\n",
    "        \n",
    "        for j in range(len(i)):\n",
    "            if j == len(i)-1:\n",
    "                soma = soma + distancias[i[j]][i[0]]\n",
    "            else:\n",
    "                soma = soma + distancias[i[j]][i[j+1]]\n",
    "            x+=1\n",
    "            \n",
    "        dist_total.append(soma)\n",
    "        \n",
    "    return dist_total"
   ]
  },
  {
   "cell_type": "code",
   "execution_count": 76,
   "id": "instructional-assist",
   "metadata": {
    "scrolled": true
   },
   "outputs": [
    {
     "data": {
      "text/plain": [
       "[252.0, 308.0]"
      ]
     },
     "execution_count": 76,
     "metadata": {},
     "output_type": "execute_result"
    }
   ],
   "source": [
    "funcao_aptidao([[0,1,2,5,4,,6], [6,5,4,3,2,1,0]])"
   ]
  },
  {
   "cell_type": "code",
   "execution_count": 80,
   "id": "southeast-agreement",
   "metadata": {},
   "outputs": [
    {
     "name": "stdout",
     "output_type": "stream",
     "text": [
      "Melhor individuo: [2 1 5 4 3 0 6]\n"
     ]
    }
   ],
   "source": [
    "num_geracoes = 1000\n",
    "\n",
    "# Crie a população usando populacao_aleatoria(NUM_INDIVIDUOS)\n",
    "populacao = populacao_aleatoria(NUM_INDIVIDUOS)\n",
    "\n",
    "for ger in range(num_geracoes):\n",
    "    \n",
    "    # Atualize a população usando a função próxima_geração.\n",
    "    populacao = proxima_geracao(populacao, funcao_aptidao(populacao))\n",
    "    \n",
    "# Mostre o melhor indivíduo\n",
    "ordenados = ordenar_lista(populacao, funcao_aptidao(populacao))\n",
    "melhor = ordenados[0]\n",
    "print('Melhor individuo:', melhor)"
   ]
  },
  {
   "cell_type": "code",
   "execution_count": 118,
   "id": "hearing-catalyst",
   "metadata": {},
   "outputs": [
    {
     "name": "stdout",
     "output_type": "stream",
     "text": [
      "distância total: 125.0\t sequência: [2 1 5 4 3 0 6]\n",
      "distância total: 125.0\t sequência: [2 1 5 4 3 0 6]\n",
      "distância total: 125.0\t sequência: [1 2 6 0 3 4 5]\n",
      "distância total: 125.0\t sequência: [2 1 5 4 3 0 6]\n",
      "distância total: 167.0\t sequência: [1 5 4 3 6 0 2]\n",
      "distância total: 193.0\t sequência: [1 2 6 0 5 3 4]\n",
      "distância total: 193.0\t sequência: [4 3 5 0 6 2 1]\n",
      "distância total: 200.0\t sequência: [5 4 2 6 3 0 1]\n",
      "distância total: 225.0\t sequência: [0 1 2 6 3 4 5]\n",
      "distância total: 227.0\t sequência: [1 5 6 0 3 4 2]\n",
      "distância total: 239.0\t sequência: [0 6 2 4 3 1 5]\n",
      "distância total: 239.0\t sequência: [3 1 5 0 6 2 4]\n",
      "distância total: 246.0\t sequência: [3 5 4 0 1 2 6]\n",
      "distância total: 249.0\t sequência: [5 4 1 0 6 2 3]\n",
      "distância total: 251.0\t sequência: [5 6 2 1 4 3 0]\n",
      "distância total: 253.0\t sequência: [1 4 5 2 0 3 6]\n",
      "distância total: 261.0\t sequência: [2 6 1 5 3 4 0]\n",
      "distância total: 264.0\t sequência: [1 0 4 2 6 3 5]\n",
      "distância total: 264.0\t sequência: [1 3 5 0 6 2 4]\n",
      "distância total: 275.0\t sequência: [1 5 6 2 3 0 4]\n",
      "distância total: 292.0\t sequência: [3 5 4 2 6 0 1]\n",
      "distância total: 294.0\t sequência: [0 2 4 5 3 1 6]\n",
      "distância total: 296.0\t sequência: [3 1 0 5 4 2 6]\n",
      "distância total: 300.0\t sequência: [0 3 5 4 6 2 1]\n",
      "distância total: 303.0\t sequência: [4 0 3 6 5 2 1]\n",
      "distância total: 303.0\t sequência: [1 5 4 6 2 3 0]\n",
      "distância total: 307.0\t sequência: [0 1 4 5 6 2 3]\n",
      "distância total: 312.0\t sequência: [6 4 5 1 3 0 2]\n",
      "distância total: 317.0\t sequência: [5 1 4 0 2 3 6]\n",
      "distância total: 322.0\t sequência: [1 0 3 5 6 2 4]\n",
      "distância total: 324.0\t sequência: [5 6 1 4 2 0 3]\n",
      "distância total: 324.0\t sequência: [5 4 3 6 1 0 2]\n",
      "distância total: 324.0\t sequência: [3 0 2 4 1 6 5]\n",
      "distância total: 336.0\t sequência: [4 3 2 1 6 5 0]\n",
      "distância total: 346.0\t sequência: [6 2 5 3 4 0 1]\n",
      "distância total: 349.0\t sequência: [5 2 4 6 3 0 1]\n",
      "distância total: 353.0\t sequência: [4 2 5 6 3 0 1]\n",
      "distância total: 360.0\t sequência: [2 0 6 5 3 1 4]\n",
      "distância total: 370.0\t sequência: [0 4 3 1 2 5 6]\n",
      "distância total: 384.0\t sequência: [3 4 2 5 6 1 0]\n",
      "distância total: 395.0\t sequência: [0 4 6 3 1 2 5]\n",
      "distância total: 398.0\t sequência: [5 2 3 6 4 0 1]\n",
      "distância total: 399.0\t sequência: [4 5 6 2 3 1 0]\n",
      "distância total: 401.0\t sequência: [1 6 5 4 0 2 3]\n",
      "distância total: 405.0\t sequência: [4 2 5 0 3 1 6]\n",
      "distância total: 405.0\t sequência: [5 6 4 2 3 0 1]\n",
      "distância total: 407.0\t sequência: [5 0 4 2 3 1 6]\n",
      "distância total: 414.0\t sequência: [1 0 4 2 6 5 3]\n",
      "distância total: 426.0\t sequência: [0 6 4 5 2 3 1]\n",
      "distância total: 445.0\t sequência: [1 0 5 2 4 6 3]\n"
     ]
    }
   ],
   "source": [
    "for i,j in zip(funcao_aptidao(ordenados),ordenados):\n",
    "    print(f'distância total: {i}\\t sequência: {j}')"
   ]
  },
  {
   "cell_type": "code",
   "execution_count": null,
   "id": "reserved-discharge",
   "metadata": {},
   "outputs": [],
   "source": []
  }
 ],
 "metadata": {
  "kernelspec": {
   "display_name": "Python 3",
   "language": "python",
   "name": "python3"
  },
  "language_info": {
   "codemirror_mode": {
    "name": "ipython",
    "version": 3
   },
   "file_extension": ".py",
   "mimetype": "text/x-python",
   "name": "python",
   "nbconvert_exporter": "python",
   "pygments_lexer": "ipython3",
   "version": "3.6.9"
  }
 },
 "nbformat": 4,
 "nbformat_minor": 5
}
