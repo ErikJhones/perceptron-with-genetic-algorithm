{
 "cells": [
  {
   "cell_type": "markdown",
   "id": "negative-print",
   "metadata": {},
   "source": [
    "# bibliotecas"
   ]
  },
  {
   "cell_type": "code",
   "execution_count": 1,
   "id": "initial-badge",
   "metadata": {},
   "outputs": [],
   "source": [
    "import numpy as np\n",
    "import random\n",
    "import pandas as pd\n",
    "\n",
    "from sklearn.model_selection import train_test_split\n",
    "from sklearn.preprocessing import LabelEncoder\n",
    "from sklearn.preprocessing import MaxAbsScaler"
   ]
  },
  {
   "cell_type": "markdown",
   "id": "excellent-teens",
   "metadata": {},
   "source": [
    "# lendo a iris.csv"
   ]
  },
  {
   "cell_type": "code",
   "execution_count": 77,
   "id": "behind-activity",
   "metadata": {
    "scrolled": true
   },
   "outputs": [],
   "source": [
    "df = pd.read_csv('iris.csv', nrows=150)"
   ]
  },
  {
   "cell_type": "markdown",
   "id": "dramatic-particle",
   "metadata": {},
   "source": [
    "# transformando as saídas categoricas em inteiras"
   ]
  },
  {
   "cell_type": "code",
   "execution_count": 78,
   "id": "vietnamese-richards",
   "metadata": {},
   "outputs": [],
   "source": [
    "item_encoder = LabelEncoder()\n",
    "df['variety'] = item_encoder.fit_transform(df.variety)"
   ]
  },
  {
   "cell_type": "markdown",
   "id": "reported-canvas",
   "metadata": {},
   "source": [
    "# pegando as classes da iris e colcoando em y"
   ]
  },
  {
   "cell_type": "code",
   "execution_count": 79,
   "id": "freelance-funds",
   "metadata": {},
   "outputs": [],
   "source": [
    "y = df.variety\n",
    "df.drop(['variety'],axis=1, inplace=True)"
   ]
  },
  {
   "cell_type": "markdown",
   "id": "obvious-river",
   "metadata": {},
   "source": [
    "# inserindo vetor de 1´s no dataset (perceptron tem disso)"
   ]
  },
  {
   "cell_type": "code",
   "execution_count": 80,
   "id": "representative-sperm",
   "metadata": {},
   "outputs": [],
   "source": [
    "df.insert(0, \"new\", np.ones(len(df))*(-1), True) "
   ]
  },
  {
   "cell_type": "markdown",
   "id": "every-marker",
   "metadata": {},
   "source": [
    "# normalizando o dataset"
   ]
  },
  {
   "cell_type": "code",
   "execution_count": 81,
   "id": "painted-scholar",
   "metadata": {},
   "outputs": [],
   "source": [
    "p=MaxAbsScaler()\n",
    "p.fit(df)\n",
    "df_max_abs = p.transform(df)\n",
    "df = pd.DataFrame(data=df_max_abs, columns=df.columns)"
   ]
  },
  {
   "cell_type": "markdown",
   "id": "empirical-characteristic",
   "metadata": {},
   "source": [
    "# separando em treino e teste"
   ]
  },
  {
   "cell_type": "code",
   "execution_count": 82,
   "id": "right-purse",
   "metadata": {},
   "outputs": [],
   "source": [
    "X_train, X_test, y_train, y_test = train_test_split(df, y, test_size=0.20, random_state=42)"
   ]
  },
  {
   "cell_type": "markdown",
   "id": "proved-smart",
   "metadata": {},
   "source": [
    "# parametros do AG"
   ]
  },
  {
   "cell_type": "code",
   "execution_count": 113,
   "id": "concrete-disclaimer",
   "metadata": {},
   "outputs": [],
   "source": [
    "CHANCE_MUT = .20     # Chance de mutação de um peso qualquer\n",
    "CHANCE_CO = .25      # Chance de crossing over de um peso qualquer\n",
    "NUM_INDIVIDUOS = 50  # Tamanho da população\n",
    "NUM_MELHORES = 3     # Número de indivíduos que são mantidos de uma geração para a próxima"
   ]
  },
  {
   "cell_type": "markdown",
   "id": "extraordinary-proportion",
   "metadata": {},
   "source": [
    "# criando população aleatória"
   ]
  },
  {
   "cell_type": "code",
   "execution_count": 84,
   "id": "proved-skirt",
   "metadata": {},
   "outputs": [],
   "source": [
    "def populacao_aleatoria(n, tamanho):\n",
    "    \"\"\"\n",
    "    Argumentos da Função:\n",
    "        n: Número de indivíduos\n",
    "    Saída:\n",
    "        Uma população aleatória. População é uma lista de indivíduos,\n",
    "        e cada indivíduo é uma matriz 1x5 de pesos (números).\n",
    "        Os indivíduos podem tomar valores entre -1 e 1 e cada linha da matriz\n",
    "        contém os pesos associados.\n",
    "    \"\"\"\n",
    "    populacao = []\n",
    "    for i in range(n):\n",
    "        populacao.append(np.random.uniform(-1, 1, tamanho))\n",
    "    return populacao"
   ]
  },
  {
   "cell_type": "markdown",
   "id": "emerging-bleeding",
   "metadata": {},
   "source": [
    "# função de aptidão"
   ]
  },
  {
   "cell_type": "code",
   "execution_count": 85,
   "id": "burning-replica",
   "metadata": {},
   "outputs": [],
   "source": [
    "def funcao_aptidao(individuos, treino, y_treino):\n",
    "    \"\"\"\n",
    "    Argumentos da Função:\n",
    "        individuos: matriz nxlen(treino[0]) com os pesos do indivíduo.\n",
    "        treino: amostras de treino.\n",
    "        y_treino: saídas reais\n",
    "    Saída:\n",
    "        Uma lista com o somatório de todos os erros de cada indivíduo e o conjunto de treino.\n",
    "    \"\"\"\n",
    "    #print(individuos.shape, treino.shape, treino.shape)\n",
    "    #print('********************************************************')\n",
    "    erros = [(treino @ individuo) - y_treino for individuo in individuos]  \n",
    "    soma_erros = [sum((erro**2)/len(treino)) for erro in erros] \n",
    "    \n",
    "    return soma_erros"
   ]
  },
  {
   "cell_type": "markdown",
   "id": "mathematical-dynamics",
   "metadata": {},
   "source": [
    "# função de mutação"
   ]
  },
  {
   "cell_type": "code",
   "execution_count": 86,
   "id": "acute-prior",
   "metadata": {},
   "outputs": [],
   "source": [
    "def mutacao(individuo):\n",
    "    \"\"\"\n",
    "    Argumentos da Função:\n",
    "        individuo: matriz nxlen(treino[0]) com os pesos do indivíduo.\n",
    "    Saída:\n",
    "        Essa função não tem saída. Ela apenas modifica os pesos do indivíduo,\n",
    "        com chance CHANCE_MUT para cada peso.\n",
    "    \"\"\"\n",
    "\n",
    "    #for i in range(1):\n",
    "    for j in range(5):\n",
    "        if np.random.uniform(0, 1) < CHANCE_MUT:\n",
    "            individuo[j] *= np.random.uniform(-10.0, 10.0) #pode mudar para valores entre 10 e -10"
   ]
  },
  {
   "cell_type": "markdown",
   "id": "subjective-mention",
   "metadata": {},
   "source": [
    "# cruzamento crossover"
   ]
  },
  {
   "cell_type": "code",
   "execution_count": 87,
   "id": "nervous-jewel",
   "metadata": {},
   "outputs": [],
   "source": [
    "def crossover(individuo1, individuo2, tamanho):\n",
    "    \"\"\"\n",
    "    Argumentos da Função:\n",
    "        individuoX: matriz nxlen(treino[0]) com os pesos do individuoX.\n",
    "    Saída:\n",
    "        Um novo indivíduo com pesos que podem vir do `individuo1`\n",
    "        (com chance 1-CHANCE_CO) ou do `individuo2` (com chance CHANCE_CO),\n",
    "        ou seja, é um cruzamento entre os dois indivíduos. Você também pode pensar\n",
    "        que essa função cria uma cópia do `individuo1`, mas com chance CHANCE_CO,\n",
    "        copia os respectivos pesos do `individuo2`.\n",
    "    \"\"\"\n",
    "    filho = individuo1.copy()\n",
    "    #for i in range(1):\n",
    "    for j in range(tamanho):\n",
    "        if np.random.uniform(0, 1) < CHANCE_CO:\n",
    "            filho[j] = individuo2[j]\n",
    "    return filho"
   ]
  },
  {
   "cell_type": "markdown",
   "id": "metropolitan-sheep",
   "metadata": {},
   "source": [
    "# função para ordenar a lista de erros obtidas na função de aptidão"
   ]
  },
  {
   "cell_type": "code",
   "execution_count": 88,
   "id": "female-auditor",
   "metadata": {},
   "outputs": [],
   "source": [
    "def ordenar_lista(lista, ordenacao, decrescente=False):\n",
    "    \"\"\"\n",
    "    Argumentos da Função:\n",
    "        lista: lista de números a ser ordenada.\n",
    "        ordenacao: lista auxiliar de números que define a prioridade da\n",
    "        ordenação.\n",
    "        decrescente: variável booleana para definir se a lista `ordenacao`\n",
    "        deve ser ordenada em ordem crescente ou decrescente.\n",
    "    Saída:\n",
    "        Uma lista com o conteúdo de `lista` ordenada com base em `ordenacao`.\n",
    "    Por exemplo,\n",
    "        ordenar_lista(['a', 'b', 'c', 'd'], [7, 2, 5, 4])\n",
    "        # retorna ['a', 'c', 'd', 'b'] (o maior número é 7, que corresponde à primeira letra: 'a')\n",
    "        ordenar_lista(['w', 'x', 'y', 'z'], [3, 8, 2, 1])\n",
    "        # retorna ['x', 'w', 'y', 'z'] (o maior número é 8, que corresponde à segunda letra: 'x')\n",
    "    \"\"\"\n",
    "    return [x for _, x in sorted(zip(ordenacao, lista), key=lambda p: p[0], reverse=decrescente)]"
   ]
  },
  {
   "cell_type": "markdown",
   "id": "worthy-record",
   "metadata": {},
   "source": [
    "# função que retorna a próxima geração"
   ]
  },
  {
   "cell_type": "code",
   "execution_count": 89,
   "id": "returning-timber",
   "metadata": {},
   "outputs": [],
   "source": [
    "def proxima_geracao(populacao, fitness):\n",
    "    \"\"\"\n",
    "    Argumentos da Função:\n",
    "        populacao: lista de indivíduos.\n",
    "        fitness: lista de fitness, uma para cada indivíduo.\n",
    "    Saída:\n",
    "        A próxima geração com base na população atual.\n",
    "        Para criar a próxima geração, segue-se o seguinte algoritmo:\n",
    "          1. Colocar os melhores indivíduos da geração atual na próxima geração.\n",
    "          2. Até que a população esteja completa:\n",
    "             2.1. Escolher aleatoriamente dois indivíduos da geração atual.\n",
    "             2.2. Criar um novo indivíduo a partir desses dois indivíduos usando\n",
    "                  crossing over.\n",
    "             2.3. Mutar esse indivíduo.\n",
    "             2.4. Adicionar esse indivíduo na próxima geração\n",
    "    \"\"\"\n",
    "    # Adicionar os melhores indivíduos da geração atual na próxima geração\n",
    "    ordenados = ordenar_lista(populacao, fitness)\n",
    "    proxima_ger = ordenados[:NUM_MELHORES]\n",
    "\n",
    "    while len(proxima_ger) < NUM_INDIVIDUOS:\n",
    "        # Você pode usar a função random.choices(populacao, weights=None, k=2) para selecionar `k`\n",
    "        # elementos aleatórios da população.\n",
    "        #\n",
    "        # Se vc passar o argumento `weights`, os indivíduos serão escolhidos com base nos pesos\n",
    "        # especificados (elementos com pesos maiores são escolhidos mais frequentemente).\n",
    "        # Uma ideia seria usar o fitness como peso.\n",
    "        ind1, ind2 = random.choices(populacao, k=2)\n",
    "        filho = crossover(ind1, ind2, len(populacao[0]))\n",
    "        mutacao(filho)\n",
    "        proxima_ger.append(filho)\n",
    "\n",
    "    return proxima_ger"
   ]
  },
  {
   "cell_type": "code",
   "execution_count": 114,
   "id": "detailed-sharp",
   "metadata": {},
   "outputs": [
    {
     "name": "stdout",
     "output_type": "stream",
     "text": [
      "Melhor individuo: [ 0.41089114  0.26053792 -0.15112916  0.66782797  2.01088366]\n"
     ]
    }
   ],
   "source": [
    "# OBS: Todos os prints abaixo são opcionais.\n",
    "# Eles estão aqui para facilitar a visualização do algoritmo.\n",
    "\n",
    "num_geracoes = 1000\n",
    "\n",
    "# Crie a população usando populacao_aleatoria(NUM_INDIVIDUOS)\n",
    "populacao = populacao_aleatoria(NUM_INDIVIDUOS, len(X_train.values[0]))\n",
    "\n",
    "for ger in range(num_geracoes):\n",
    "    \n",
    "    # Atualize a população usando a função próxima_geração.\n",
    "    populacao = proxima_geracao(populacao, funcao_aptidao(populacao, X_train, y_train))\n",
    "    \n",
    "# Mostre o melhor indivíduo\n",
    "ordenados = ordenar_lista(populacao, funcao_aptidao(populacao, X_train, y_train))\n",
    "melhor = ordenados[0]\n",
    "print('Melhor individuo:', melhor)"
   ]
  },
  {
   "cell_type": "code",
   "execution_count": 115,
   "id": "constitutional-football",
   "metadata": {
    "collapsed": true
   },
   "outputs": [
    {
     "data": {
      "text/plain": [
       "[0.033520646802851,\n",
       " 0.033520646802851,\n",
       " 0.033520646802851,\n",
       " 1.3460122405574662,\n",
       " 139.53896215117115,\n",
       " 625.4035946969,\n",
       " 712.557497626891,\n",
       " 911.1488079659197,\n",
       " 2428.536947816807,\n",
       " 5393.850762185462,\n",
       " 6807.82154678138,\n",
       " 8647.841937664003,\n",
       " 9461.644606667352,\n",
       " 18018.29579036776,\n",
       " 46232.01370047473,\n",
       " 54962.751575148475,\n",
       " 177880.07653695258,\n",
       " 445249.2064049545,\n",
       " 536119.5602363285,\n",
       " 613436.0787303682,\n",
       " 825318.3543779579,\n",
       " 1092570.9030841668,\n",
       " 1935185.201320002,\n",
       " 1758112.6296456105,\n",
       " 2527397.8440546994,\n",
       " 3247140.5321258507,\n",
       " 3450146.0500247795,\n",
       " 4119963.3148977323,\n",
       " 6098688.365457094,\n",
       " 6175856.084425094,\n",
       " 7236033.745775566,\n",
       " 8385201.328598194,\n",
       " 9376385.73164151,\n",
       " 14566066.264845556,\n",
       " 13973465.727119708,\n",
       " 13321087.482647952,\n",
       " 20074046.15327731,\n",
       " 21431469.23654698,\n",
       " 54807564.57762827,\n",
       " 86540766.11971669,\n",
       " 118495679.2186108,\n",
       " 246593408.2947418,\n",
       " 333288989.3072517,\n",
       " 391415193.7137166,\n",
       " 954313695.9271855,\n",
       " 1783639610.380061,\n",
       " 32030656509.299217,\n",
       " 43207780483425.92,\n",
       " 43207801867105.8,\n",
       " 7.970848554619958e+17]"
      ]
     },
     "execution_count": 115,
     "metadata": {},
     "output_type": "execute_result"
    }
   ],
   "source": [
    "funcao_aptidao(ordenados, X_test, y_test)"
   ]
  },
  {
   "cell_type": "markdown",
   "id": "civilian-technical",
   "metadata": {},
   "source": [
    "# saídas obtidas"
   ]
  },
  {
   "cell_type": "code",
   "execution_count": 116,
   "id": "adopted-prospect",
   "metadata": {
    "scrolled": true
   },
   "outputs": [
    {
     "data": {
      "text/plain": [
       "array([[1, 0, 2, 1, 1, 0, 1, 2, 1, 1, 1, 0, 0, 0, 0, 1, 2, 0, 1, 2, 0, 1,\n",
       "        0, 1, 1, 2, 1, 2, 0, 0]])"
      ]
     },
     "execution_count": 116,
     "metadata": {},
     "output_type": "execute_result"
    }
   ],
   "source": [
    "a = [int(x @ melhor) for x in X_test.values]\n",
    "np.array(a).reshape(1, len(a))"
   ]
  },
  {
   "cell_type": "markdown",
   "id": "driven-singles",
   "metadata": {},
   "source": [
    "# saída original"
   ]
  },
  {
   "cell_type": "code",
   "execution_count": 117,
   "id": "national-blues",
   "metadata": {},
   "outputs": [
    {
     "data": {
      "text/plain": [
       "array([[1, 0, 2, 1, 1, 0, 1, 2, 1, 1, 2, 0, 0, 0, 0, 1, 2, 1, 1, 2, 0, 2,\n",
       "        0, 2, 2, 2, 2, 2, 0, 0]])"
      ]
     },
     "execution_count": 117,
     "metadata": {},
     "output_type": "execute_result"
    }
   ],
   "source": [
    "b = y_test.values.reshape(1, len(y_test))\n",
    "b"
   ]
  },
  {
   "cell_type": "markdown",
   "id": "arctic-incidence",
   "metadata": {},
   "source": [
    "# taxa de acerto"
   ]
  },
  {
   "cell_type": "code",
   "execution_count": 118,
   "id": "interpreted-report",
   "metadata": {},
   "outputs": [
    {
     "data": {
      "text/plain": [
       "0.8"
      ]
     },
     "execution_count": 118,
     "metadata": {},
     "output_type": "execute_result"
    }
   ],
   "source": [
    " 1-abs((a - b).sum()/len(y_test))"
   ]
  },
  {
   "cell_type": "code",
   "execution_count": null,
   "id": "oriented-briefs",
   "metadata": {},
   "outputs": [],
   "source": [
    "https://towardsdatascience.com/illustrated-self-attention-2d627e33b20a"
   ]
  }
 ],
 "metadata": {
  "kernelspec": {
   "display_name": "Python 3",
   "language": "python",
   "name": "python3"
  },
  "language_info": {
   "codemirror_mode": {
    "name": "ipython",
    "version": 3
   },
   "file_extension": ".py",
   "mimetype": "text/x-python",
   "name": "python",
   "nbconvert_exporter": "python",
   "pygments_lexer": "ipython3",
   "version": "3.6.9"
  }
 },
 "nbformat": 4,
 "nbformat_minor": 5
}
